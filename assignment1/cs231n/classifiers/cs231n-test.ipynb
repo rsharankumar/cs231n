{
 "cells": [
  {
   "cell_type": "code",
   "execution_count": 1,
   "metadata": {
    "collapsed": false
   },
   "outputs": [
    {
     "name": "stdout",
     "output_type": "stream",
     "text": [
      "[ 3.  4.  5.]\n",
      "1.0\n",
      "[ 2.  3.  4.]\n"
     ]
    }
   ],
   "source": [
    "import numpy as np\n",
    "x1 = np.arange(9.0).reshape((3, 3))\n",
    "print(x1[1])\n",
    "x2 = np.arange(3.0)\n",
    "print(x2[1])\n",
    "print(np.subtract(x1[1], x2[1]))"
   ]
  },
  {
   "cell_type": "code",
   "execution_count": 43,
   "metadata": {
    "collapsed": false
   },
   "outputs": [
    {
     "name": "stdout",
     "output_type": "stream",
     "text": [
      "[[1 1 1 1]\n",
      " [2 2 2 2]]\n",
      "[[1 2 3 4]\n",
      " [1 1 1 1]\n",
      " [1 2 1 9]]\n",
      "65\n"
     ]
    }
   ],
   "source": [
    "# For two loop\n",
    "import numpy as np\n",
    "a = np.array([[1,1,1,1],[2,2,2,2]])\n",
    "print(a)\n",
    "b = np.array([[1,2,3,4],[1,1,1,1],[1,2,1,9]])\n",
    "print(b)\n",
    "print(np.sum(np.square(a[0] - b[2])))"
   ]
  },
  {
   "cell_type": "code",
   "execution_count": 30,
   "metadata": {
    "collapsed": false
   },
   "outputs": [
    {
     "name": "stdout",
     "output_type": "stream",
     "text": [
      "[[1 1 1 1]\n",
      " [2 2 2 2]]\n",
      "[[1 2 3 4]\n",
      " [1 1 1 1]\n",
      " [1 2 1 9]]\n",
      "[[ 0 -1 -2 -3]\n",
      " [ 0  0  0  0]\n",
      " [ 0 -1  0 -8]]\n",
      "[[ 0  1  4  9]\n",
      " [ 0  0  0  0]\n",
      " [ 0  1  0 64]]\n",
      "[14  0 65]\n"
     ]
    }
   ],
   "source": [
    "# For single loop\n",
    "import numpy as np\n",
    "a = np.array([[1,1,1,1],[2,2,2,2]])\n",
    "print(a)\n",
    "b = np.array([[1,2,3,4],[1,1,1,1],[1,2,1,9]])\n",
    "print(b)\n",
    "print(a[0] -b)\n",
    "print(np.square(a[0] -b))\n",
    "print(np.sum(np.square(a[0] - b), axis=1))\n",
    "dists = np.zeros((2, 3))\n",
    "#for i in range(2):\n",
    "#      dists[i] = np.sqrt(np.sum(np.square(a[i] - b), axis=1))"
   ]
  },
  {
   "cell_type": "code",
   "execution_count": 23,
   "metadata": {
    "collapsed": false
   },
   "outputs": [
    {
     "name": "stdout",
     "output_type": "stream",
     "text": [
      "[[14  6]\n",
      " [ 0  4]\n",
      " [65 51]]\n",
      "[[[ 0  1  4  9]\n",
      "  [ 1  0  1  4]]\n",
      "\n",
      " [[ 0  0  0  0]\n",
      "  [ 1  1  1  1]]\n",
      "\n",
      " [[ 0  1  0 64]\n",
      "  [ 1  0  1 49]]]\n"
     ]
    }
   ],
   "source": [
    "# For no loop\n",
    "import numpy as np\n",
    "a = np.array([[1,1,1,1],[2,2,2,2]])\n",
    "#print(a)\n",
    "b = np.array([[1,2,3,4],[1,1,1,1],[1,2,1,9]])\n",
    "#print(b)\n",
    "c = np.square(a - b[:, np.newaxis])\n",
    "print(c.sum(axis=2))\n",
    "print(np.square(a - b[:, np.newaxis]))\n",
    "#print(np.sum(np.square(a - b[:, np.newaxis])), axis=1)"
   ]
  },
  {
   "cell_type": "code",
   "execution_count": 52,
   "metadata": {
    "collapsed": false
   },
   "outputs": [
    {
     "name": "stdout",
     "output_type": "stream",
     "text": [
      "[1 3 1 2 3]\n",
      "[[  4]\n",
      " [ 16]\n",
      " [110]]\n",
      "[30  4 87 87 16]\n",
      "[[ -20   -8  -26  -34  -16]\n",
      " [ -40  -16  -52  -68  -32]\n",
      " [-114  -40 -160 -170  -80]]\n",
      "[[ 3.74165739  0.          8.06225775  7.54983444  2.        ]\n",
      " [ 2.44948974  2.          7.14142843  5.91607978  0.        ]\n",
      " [ 5.09901951  8.60232527  6.08276253  5.19615242  6.78232998]]\n",
      "[ 2.44948974  2.          7.14142843  5.91607978  0.        ]\n",
      "[3 3]\n",
      "3\n"
     ]
    }
   ],
   "source": [
    "# For no loop\n",
    "import numpy as np\n",
    "a = np.array([[1,1,1,1],[2,2,2,2],[3,4,6,7]])\n",
    "#print(a)\n",
    "b = np.array([[1,2,3,4],[1,1,1,1],[1,2,1,9],[3,5,7,2], [2,2,2,2]])\n",
    "#print(b)\n",
    "label = np.array([1,3,1,2,3])\n",
    "print(label)\n",
    "a1 = np.sum(np.square(a), axis=1, keepdims = True)\n",
    "print(a1)\n",
    "b1 = np.sum(np.square(b), axis=1)\n",
    "print(b1)\n",
    "ab2 = np.multiply(np.dot(a,b.T),-2)\n",
    "print(ab2)\n",
    "ab = np.add(ab2, b1)\n",
    "ab = np.add(ab, a1)\n",
    "dis1 = np.sqrt(ab)\n",
    "print(dis1)\n",
    "t1 = dis1[1]\n",
    "print(t1)\n",
    "t2 = label[np.argsort(t1)[:2]]\n",
    "print(t2)\n",
    "t3 = np.argmax(np.bincount(t2))\n",
    "print(t3)\n",
    "#print(np.argmax(np.bincount(np.array([0, 1, 2, 3, 4, 2, 7]))))"
   ]
  },
  {
   "cell_type": "code",
   "execution_count": null,
   "metadata": {
    "collapsed": true
   },
   "outputs": [],
   "source": []
  },
  {
   "cell_type": "code",
   "execution_count": null,
   "metadata": {
    "collapsed": true
   },
   "outputs": [],
   "source": []
  }
 ],
 "metadata": {
  "kernelspec": {
   "display_name": "Python 2",
   "language": "python",
   "name": "python2"
  },
  "language_info": {
   "codemirror_mode": {
    "name": "ipython",
    "version": 2
   },
   "file_extension": ".py",
   "mimetype": "text/x-python",
   "name": "python",
   "nbconvert_exporter": "python",
   "pygments_lexer": "ipython2",
   "version": "2.7.13"
  }
 },
 "nbformat": 4,
 "nbformat_minor": 2
}
