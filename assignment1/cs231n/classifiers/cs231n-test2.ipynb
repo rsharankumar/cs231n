{
 "cells": [
  {
   "cell_type": "code",
   "execution_count": 7,
   "metadata": {
    "collapsed": false
   },
   "outputs": [
    {
     "name": "stdout",
     "output_type": "stream",
     "text": [
      "[[ 0.2  -0.5   0.1   2.    1.1 ]\n",
      " [ 1.5   1.3   2.1   0.    3.2 ]\n",
      " [ 0.    0.25  0.2  -0.3  -1.2 ]]\n",
      "[ 56 231  24   2   1]\n"
     ]
    }
   ],
   "source": [
    "import numpy as np\n",
    "w=np.array([[0.2, -0.5, 0.1, 2, 1.1], [1.5, 1.3, 2.1, 0, 3.2], [0, 0.25, 0.2, -0.3, -1.2]])\n",
    "x = np.array([56, 231, 24, 2, 1])\n",
    "print(w)\n",
    "print(x)"
   ]
  },
  {
   "cell_type": "code",
   "execution_count": 8,
   "metadata": {
    "collapsed": false
   },
   "outputs": [
    {
     "name": "stdout",
     "output_type": "stream",
     "text": [
      "5\n",
      "[[ 0.  0.  0.  0.  0.]\n",
      " [ 0.  0.  0.  0.  0.]\n",
      " [ 0.  0.  0.  0.  0.]]\n",
      "5\n",
      "5\n"
     ]
    }
   ],
   "source": [
    "print(w.shape[1])\n",
    "print(np.zeros(w.shape))\n",
    "num_classes = w.shape[1]\n",
    "num_train = x.shape[0]\n",
    "print(num_classes)\n",
    "print(num_train)"
   ]
  },
  {
   "cell_type": "code",
   "execution_count": 9,
   "metadata": {
    "collapsed": false
   },
   "outputs": [
    {
     "name": "stdout",
     "output_type": "stream",
     "text": [
      "[ -96.8   437.9    60.75]\n"
     ]
    }
   ],
   "source": [
    "scores = w.dot(x)\n",
    "print(scores)\n",
    "\n"
   ]
  },
  {
   "cell_type": "code",
   "execution_count": 10,
   "metadata": {
    "collapsed": false
   },
   "outputs": [
    {
     "name": "stdout",
     "output_type": "stream",
     "text": [
      "[ 1.1  3.2 -1.2]\n",
      "[ 1.5  1.3  2.1  0.   3.2]\n"
     ]
    }
   ],
   "source": [
    "print(w[:,4])\n",
    "print(w[1,:])\n",
    "#print(w[:,1] + w[1,:])"
   ]
  },
  {
   "cell_type": "code",
   "execution_count": 19,
   "metadata": {
    "collapsed": false
   },
   "outputs": [
    {
     "name": "stdout",
     "output_type": "stream",
     "text": [
      "56\n",
      "231\n",
      "24\n",
      "2\n",
      "1\n"
     ]
    }
   ],
   "source": [
    "for i in xrange(num_classes):\n",
    "    print(x[i])"
   ]
  },
  {
   "cell_type": "code",
   "execution_count": 54,
   "metadata": {
    "collapsed": false
   },
   "outputs": [
    {
     "name": "stdout",
     "output_type": "stream",
     "text": [
      "[[ -96.8   437.9    60.75]\n",
      " [ 266.3   682.2  -110.75]\n",
      " [ 207.2   456.6   -85.3 ]]\n",
      "[  60.75  682.2   -85.3 ]\n",
      "[[   0.    378.15    1.  ]\n",
      " [   0.      1.      0.  ]\n",
      " [ 293.5   542.9     1.  ]]\n",
      "405.85\n",
      "405.850128662\n"
     ]
    }
   ],
   "source": [
    "import numpy as np\n",
    "x1 = np.array([[56,231,24,2,1],[74,81,71,88,99],[101,2,45,56,65]])\n",
    "w1 = np.array([[0.2,1.5,0],[-0.5,1.3,0.25],[0.1,2.1,0.2],[2,0,-0.3],[1.1,3.2,-1.2]])\n",
    "y1 = np.array([2,1,2])\n",
    "s1 = x1.dot(w1)\n",
    "print(s1)\n",
    "correct_res = s1[np.arange(x1.shape[0]), y1]\n",
    "print(correct_res)\n",
    "margin = np.maximum(0, s1 - np.matrix(correct_res).T + 1)\n",
    "print(margin)\n",
    "loss = 0\n",
    "loss = np.mean(np.sum(margin, axis=1))\n",
    "print(loss)\n",
    "loss += 0.5 * 0.00001 * np.sum(w1 * w1)\n",
    "print(loss)\n",
    "#print(np.arrange(x1.shape[0]), y)\n",
    "#print(s1-s1[:1])"
   ]
  },
  {
   "cell_type": "code",
   "execution_count": null,
   "metadata": {
    "collapsed": true
   },
   "outputs": [],
   "source": []
  },
  {
   "cell_type": "code",
   "execution_count": null,
   "metadata": {
    "collapsed": true
   },
   "outputs": [],
   "source": []
  }
 ],
 "metadata": {
  "kernelspec": {
   "display_name": "Python 2",
   "language": "python",
   "name": "python2"
  },
  "language_info": {
   "codemirror_mode": {
    "name": "ipython",
    "version": 2
   },
   "file_extension": ".py",
   "mimetype": "text/x-python",
   "name": "python",
   "nbconvert_exporter": "python",
   "pygments_lexer": "ipython2",
   "version": "2.7.13"
  }
 },
 "nbformat": 4,
 "nbformat_minor": 2
}
