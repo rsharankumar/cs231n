{
 "cells": [
  {
   "cell_type": "code",
   "execution_count": 12,
   "metadata": {
    "collapsed": false
   },
   "outputs": [
    {
     "name": "stdout",
     "output_type": "stream",
     "text": [
      "[[ 0.2  -0.5   0.1   2.    1.1 ]\n",
      " [ 1.5   1.3   2.1   0.    3.2 ]\n",
      " [ 0.    0.25  0.2  -0.3  -1.2 ]]\n",
      "[ 56 231  24   2   1]\n",
      "0\n",
      "[[ 0.  0.  0.  0.  0.]\n",
      " [ 0.  0.  0.  0.  0.]\n",
      " [ 0.  0.  0.  0.  0.]]\n",
      "[ 0.  0.  0.]\n",
      "[ 56 231  24   2   1]\n"
     ]
    }
   ],
   "source": [
    "import numpy as np\n",
    "w=np.array([[0.2, -0.5, 0.1, 2, 1.1], [1.5, 1.3, 2.1, 0, 3.2], [0, 0.25, 0.2, -0.3, -1.2]])\n",
    "x = np.array([56, 231, 24, 2, 1])\n",
    "y = 0\n",
    "dw = np.zeros(w.shape)\n",
    "print(w)\n",
    "print(x)\n",
    "print(y)\n",
    "print(dw)\n",
    "print(dw[:,2])\n",
    "print(x)"
   ]
  },
  {
   "cell_type": "code",
   "execution_count": 3,
   "metadata": {
    "collapsed": false
   },
   "outputs": [
    {
     "name": "stdout",
     "output_type": "stream",
     "text": [
      "5\n",
      "5\n",
      "[[ 0.  0.  0.  0.  0.]\n",
      " [ 0.  0.  0.  0.  0.]\n",
      " [ 0.  0.  0.  0.  0.]]\n",
      "5\n",
      "5\n"
     ]
    }
   ],
   "source": [
    "print(w.shape[1])\n",
    "print x.shape[0]\n",
    "print(np.zeros(w.shape))\n",
    "num_classes = w.shape[1]\n",
    "num_train = x.shape[0]\n",
    "print(num_classes)\n",
    "print(num_train)"
   ]
  },
  {
   "cell_type": "code",
   "execution_count": 5,
   "metadata": {
    "collapsed": false
   },
   "outputs": [
    {
     "name": "stdout",
     "output_type": "stream",
     "text": [
      "[ -96.8   437.9    60.75]\n",
      "[   0.    534.7   157.55]\n"
     ]
    }
   ],
   "source": [
    "scores = w.dot(x)\n",
    "print(scores)\n",
    "print(scores - scores[y])\n"
   ]
  },
  {
   "cell_type": "code",
   "execution_count": null,
   "metadata": {
    "collapsed": true
   },
   "outputs": [],
   "source": []
  }
 ],
 "metadata": {
  "kernelspec": {
   "display_name": "Python 2",
   "language": "python",
   "name": "python2"
  },
  "language_info": {
   "codemirror_mode": {
    "name": "ipython",
    "version": 2
   },
   "file_extension": ".py",
   "mimetype": "text/x-python",
   "name": "python",
   "nbconvert_exporter": "python",
   "pygments_lexer": "ipython2",
   "version": "2.7.13"
  }
 },
 "nbformat": 4,
 "nbformat_minor": 2
}
