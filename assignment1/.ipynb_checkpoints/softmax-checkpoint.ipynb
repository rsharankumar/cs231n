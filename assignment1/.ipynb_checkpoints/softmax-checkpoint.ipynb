{
 "cells": [
  {
   "cell_type": "markdown",
   "metadata": {},
   "source": [
    "# Softmax exercise\n",
    "\n",
    "*Complete and hand in this completed worksheet (including its outputs and any supporting code outside of the worksheet) with your assignment submission. For more details see the [assignments page](http://vision.stanford.edu/teaching/cs231n/assignments.html) on the course website.*\n",
    "\n",
    "This exercise is analogous to the SVM exercise. You will:\n",
    "\n",
    "- implement a fully-vectorized **loss function** for the Softmax classifier\n",
    "- implement the fully-vectorized expression for its **analytic gradient**\n",
    "- **check your implementation** with numerical gradient\n",
    "- use a validation set to **tune the learning rate and regularization** strength\n",
    "- **optimize** the loss function with **SGD**\n",
    "- **visualize** the final learned weights\n"
   ]
  },
  {
   "cell_type": "code",
   "execution_count": 1,
   "metadata": {
    "collapsed": false
   },
   "outputs": [],
   "source": [
    "import random\n",
    "import numpy as np\n",
    "from cs231n.data_utils import load_CIFAR10\n",
    "import matplotlib.pyplot as plt\n",
    "%matplotlib inline\n",
    "plt.rcParams['figure.figsize'] = (10.0, 8.0) # set default size of plots\n",
    "plt.rcParams['image.interpolation'] = 'nearest'\n",
    "plt.rcParams['image.cmap'] = 'gray'\n",
    "\n",
    "# for auto-reloading extenrnal modules\n",
    "# see http://stackoverflow.com/questions/1907993/autoreload-of-modules-in-ipython\n",
    "%load_ext autoreload\n",
    "%autoreload 2"
   ]
  },
  {
   "cell_type": "code",
   "execution_count": 2,
   "metadata": {
    "collapsed": false
   },
   "outputs": [
    {
     "name": "stdout",
     "output_type": "stream",
     "text": [
      "Train data shape:  (49000L, 3073L)\n",
      "Train labels shape:  (49000L,)\n",
      "Validation data shape:  (1000L, 3073L)\n",
      "Validation labels shape:  (1000L,)\n",
      "Test data shape:  (1000L, 3073L)\n",
      "Test labels shape:  (1000L,)\n",
      "dev data shape:  (500L, 3073L)\n",
      "dev labels shape:  (500L,)\n"
     ]
    }
   ],
   "source": [
    "def get_CIFAR10_data(num_training=49000, num_validation=1000, num_test=1000, num_dev=500):\n",
    "  \"\"\"\n",
    "  Load the CIFAR-10 dataset from disk and perform preprocessing to prepare\n",
    "  it for the linear classifier. These are the same steps as we used for the\n",
    "  SVM, but condensed to a single function.  \n",
    "  \"\"\"\n",
    "  # Load the raw CIFAR-10 data\n",
    "  cifar10_dir = 'cs231n/datasets/cifar-10-batches-py'\n",
    "  X_train, y_train, X_test, y_test = load_CIFAR10(cifar10_dir)\n",
    "  \n",
    "  # subsample the data\n",
    "  mask = range(num_training, num_training + num_validation)\n",
    "  X_val = X_train[mask]\n",
    "  y_val = y_train[mask]\n",
    "  mask = range(num_training)\n",
    "  X_train = X_train[mask]\n",
    "  y_train = y_train[mask]\n",
    "  mask = range(num_test)\n",
    "  X_test = X_test[mask]\n",
    "  y_test = y_test[mask]\n",
    "  mask = np.random.choice(num_training, num_dev, replace=False)\n",
    "  X_dev = X_train[mask]\n",
    "  y_dev = y_train[mask]\n",
    "  \n",
    "  # Preprocessing: reshape the image data into rows\n",
    "  X_train = np.reshape(X_train, (X_train.shape[0], -1))\n",
    "  X_val = np.reshape(X_val, (X_val.shape[0], -1))\n",
    "  X_test = np.reshape(X_test, (X_test.shape[0], -1))\n",
    "  X_dev = np.reshape(X_dev, (X_dev.shape[0], -1))\n",
    "  \n",
    "  # Normalize the data: subtract the mean image\n",
    "  mean_image = np.mean(X_train, axis = 0)\n",
    "  X_train -= mean_image\n",
    "  X_val -= mean_image\n",
    "  X_test -= mean_image\n",
    "  X_dev -= mean_image\n",
    "  \n",
    "  # add bias dimension and transform into columns\n",
    "  X_train = np.hstack([X_train, np.ones((X_train.shape[0], 1))])\n",
    "  X_val = np.hstack([X_val, np.ones((X_val.shape[0], 1))])\n",
    "  X_test = np.hstack([X_test, np.ones((X_test.shape[0], 1))])\n",
    "  X_dev = np.hstack([X_dev, np.ones((X_dev.shape[0], 1))])\n",
    "  \n",
    "  return X_train, y_train, X_val, y_val, X_test, y_test, X_dev, y_dev\n",
    "\n",
    "\n",
    "# Invoke the above function to get our data.\n",
    "X_train, y_train, X_val, y_val, X_test, y_test, X_dev, y_dev = get_CIFAR10_data()\n",
    "print 'Train data shape: ', X_train.shape\n",
    "print 'Train labels shape: ', y_train.shape\n",
    "print 'Validation data shape: ', X_val.shape\n",
    "print 'Validation labels shape: ', y_val.shape\n",
    "print 'Test data shape: ', X_test.shape\n",
    "print 'Test labels shape: ', y_test.shape\n",
    "print 'dev data shape: ', X_dev.shape\n",
    "print 'dev labels shape: ', y_dev.shape"
   ]
  },
  {
   "cell_type": "markdown",
   "metadata": {},
   "source": [
    "## Softmax Classifier\n",
    "\n",
    "Your code for this section will all be written inside **cs231n/classifiers/softmax.py**. \n"
   ]
  },
  {
   "cell_type": "code",
   "execution_count": 5,
   "metadata": {
    "collapsed": false
   },
   "outputs": [
    {
     "name": "stdout",
     "output_type": "stream",
     "text": [
      "loss: 2.297062\n",
      "sanity check: 2.302585\n"
     ]
    }
   ],
   "source": [
    "# First implement the naive softmax loss function with nested loops.\n",
    "# Open the file cs231n/classifiers/softmax.py and implement the\n",
    "# softmax_loss_naive function.\n",
    "\n",
    "from cs231n.classifiers.softmax import softmax_loss_naive\n",
    "import time\n",
    "\n",
    "# Generate a random softmax weight matrix and use it to compute the loss.\n",
    "W = np.random.randn(3073, 10) * 0.0001\n",
    "loss, grad = softmax_loss_naive(W, X_dev, y_dev, 0.0)\n",
    "\n",
    "# As a rough sanity check, our loss should be something close to -log(0.1).\n",
    "print 'loss: %f' % loss\n",
    "print 'sanity check: %f' % (-np.log(0.1))"
   ]
  },
  {
   "cell_type": "markdown",
   "metadata": {},
   "source": [
    "## Inline Question 1:\n",
    "Why do we expect our loss to be close to -log(0.1)? Explain briefly.**\n",
    "\n",
    "**Your answer:** *Fill this in*\n"
   ]
  },
  {
   "cell_type": "code",
   "execution_count": 6,
   "metadata": {
    "collapsed": false
   },
   "outputs": [
    {
     "name": "stdout",
     "output_type": "stream",
     "text": [
      "numerical: 2.393846 analytic: 2.393846, relative error: 1.113160e-08\n",
      "numerical: 1.263868 analytic: 1.263868, relative error: 9.850476e-09\n",
      "numerical: -0.989644 analytic: -0.989644, relative error: 5.433024e-09\n",
      "numerical: 2.444373 analytic: 2.444373, relative error: 1.852939e-08\n",
      "numerical: 1.275775 analytic: 1.275775, relative error: 7.106313e-09\n",
      "numerical: -0.783495 analytic: -0.783494, relative error: 7.532352e-08\n",
      "numerical: 0.440733 analytic: 0.440733, relative error: 6.158672e-08\n",
      "numerical: -1.476525 analytic: -1.476525, relative error: 3.128948e-09\n",
      "numerical: -0.582159 analytic: -0.582159, relative error: 1.695598e-08\n",
      "numerical: -0.862823 analytic: -0.862823, relative error: 2.846161e-08\n",
      "numerical: -0.359336 analytic: -0.359336, relative error: 4.443511e-08\n",
      "numerical: 2.632561 analytic: 2.632561, relative error: 1.704900e-08\n",
      "numerical: -1.314005 analytic: -1.314005, relative error: 3.596717e-08\n",
      "numerical: -0.822778 analytic: -0.822778, relative error: 2.561917e-08\n",
      "numerical: -1.492788 analytic: -1.492788, relative error: 2.426776e-08\n",
      "numerical: -1.316872 analytic: -1.316872, relative error: 1.615165e-08\n",
      "numerical: 0.966330 analytic: 0.966330, relative error: 1.112313e-07\n",
      "numerical: -4.349258 analytic: -4.349258, relative error: 1.641511e-08\n",
      "numerical: 1.412957 analytic: 1.412957, relative error: 4.355349e-08\n",
      "numerical: 3.289772 analytic: 3.289772, relative error: 1.073455e-08\n"
     ]
    }
   ],
   "source": [
    "# Complete the implementation of softmax_loss_naive and implement a (naive)\n",
    "# version of the gradient that uses nested loops.\n",
    "loss, grad = softmax_loss_naive(W, X_dev, y_dev, 0.0)\n",
    "\n",
    "# As we did for the SVM, use numeric gradient checking as a debugging tool.\n",
    "# The numeric gradient should be close to the analytic gradient.\n",
    "from cs231n.gradient_check import grad_check_sparse\n",
    "f = lambda w: softmax_loss_naive(w, X_dev, y_dev, 0.0)[0]\n",
    "grad_numerical = grad_check_sparse(f, W, grad, 10)\n",
    "\n",
    "# similar to SVM case, do another gradient check with regularization\n",
    "loss, grad = softmax_loss_naive(W, X_dev, y_dev, 1e2)\n",
    "f = lambda w: softmax_loss_naive(w, X_dev, y_dev, 1e2)[0]\n",
    "grad_numerical = grad_check_sparse(f, W, grad, 10)"
   ]
  },
  {
   "cell_type": "code",
   "execution_count": 7,
   "metadata": {
    "collapsed": false
   },
   "outputs": [
    {
     "name": "stdout",
     "output_type": "stream",
     "text": [
      "naive loss: 2.297062e+00 computed in 0.078000s\n",
      "vectorized loss: 2.297062e+00 computed in 0.000000s\n",
      "Loss difference: 0.000000\n",
      "Gradient difference: 0.000000\n"
     ]
    }
   ],
   "source": [
    "# Now that we have a naive implementation of the softmax loss function and its gradient,\n",
    "# implement a vectorized version in softmax_loss_vectorized.\n",
    "# The two versions should compute the same results, but the vectorized version should be\n",
    "# much faster.\n",
    "tic = time.time()\n",
    "loss_naive, grad_naive = softmax_loss_naive(W, X_dev, y_dev, 0.00001)\n",
    "toc = time.time()\n",
    "print 'naive loss: %e computed in %fs' % (loss_naive, toc - tic)\n",
    "\n",
    "from cs231n.classifiers.softmax import softmax_loss_vectorized\n",
    "tic = time.time()\n",
    "loss_vectorized, grad_vectorized = softmax_loss_vectorized(W, X_dev, y_dev, 0.00001)\n",
    "toc = time.time()\n",
    "print 'vectorized loss: %e computed in %fs' % (loss_vectorized, toc - tic)\n",
    "\n",
    "# As we did for the SVM, we use the Frobenius norm to compare the two versions\n",
    "# of the gradient.\n",
    "grad_difference = np.linalg.norm(grad_naive - grad_vectorized, ord='fro')\n",
    "print 'Loss difference: %f' % np.abs(loss_naive - loss_vectorized)\n",
    "print 'Gradient difference: %f' % grad_difference"
   ]
  },
  {
   "cell_type": "code",
   "execution_count": 13,
   "metadata": {
    "collapsed": false
   },
   "outputs": [
    {
     "name": "stdout",
     "output_type": "stream",
     "text": [
      "Training Accuracy: 0.329448979592\n",
      "Validation Accuracy: 0.351\n",
      "Training Accuracy: 0.100265306122\n",
      "Validation Accuracy: 0.087\n",
      "Training Accuracy: 0.190673469388\n",
      "Validation Accuracy: 0.203\n",
      "Training Accuracy: 0.253959183673\n",
      "Validation Accuracy: 0.267\n",
      "Training Accuracy: 0.303428571429\n",
      "Validation Accuracy: 0.321\n",
      "Training Accuracy: 0.355020408163\n",
      "Validation Accuracy: 0.355\n",
      "Training Accuracy: 0.324428571429\n",
      "Validation Accuracy: 0.344\n",
      "Training Accuracy: 0.100265306122\n",
      "Validation Accuracy: 0.087\n",
      "Training Accuracy: 0.100265306122\n",
      "Validation Accuracy: 0.087\n",
      "Training Accuracy: 0.278265306122\n",
      "Validation Accuracy: 0.276\n",
      "Training Accuracy: 0.295244897959\n",
      "Validation Accuracy: 0.318\n",
      "Training Accuracy: 0.374612244898\n",
      "Validation Accuracy: 0.385\n",
      "Training Accuracy: 0.319020408163\n",
      "Validation Accuracy: 0.341\n",
      "Training Accuracy: 0.100265306122\n",
      "Validation Accuracy: 0.087\n",
      "Training Accuracy: 0.100265306122\n",
      "Validation Accuracy: 0.087\n",
      "Training Accuracy: 0.232265306122\n",
      "Validation Accuracy: 0.249\n",
      "Training Accuracy: 0.31293877551\n",
      "Validation Accuracy: 0.322\n",
      "Training Accuracy: 0.371530612245\n",
      "Validation Accuracy: 0.388\n",
      "Training Accuracy: 0.331632653061\n",
      "Validation Accuracy: 0.359\n",
      "Training Accuracy: 0.100265306122\n",
      "Validation Accuracy: 0.087\n",
      "Training Accuracy: 0.100265306122\n",
      "Validation Accuracy: 0.087\n",
      "Training Accuracy: 0.246428571429\n",
      "Validation Accuracy: 0.26\n",
      "Training Accuracy: 0.309714285714\n",
      "Validation Accuracy: 0.315\n",
      "Training Accuracy: 0.375775510204\n",
      "Validation Accuracy: 0.399\n",
      "Training Accuracy: 0.322897959184\n",
      "Validation Accuracy: 0.336\n",
      "Training Accuracy: 0.100265306122\n",
      "Validation Accuracy: 0.087\n",
      "Training Accuracy: 0.100265306122\n",
      "Validation Accuracy: 0.087\n",
      "Training Accuracy: 0.238183673469\n",
      "Validation Accuracy: 0.235\n",
      "Training Accuracy: 0.294142857143\n",
      "Validation Accuracy: 0.323\n",
      "Training Accuracy: 0.372265306122\n",
      "Validation Accuracy: 0.371\n",
      "Training Accuracy: 0.319040816327\n",
      "Validation Accuracy: 0.337\n",
      "Training Accuracy: 0.100265306122\n",
      "Validation Accuracy: 0.087\n",
      "Training Accuracy: 0.100265306122\n",
      "Validation Accuracy: 0.087\n",
      "Training Accuracy: 0.257714285714\n",
      "Validation Accuracy: 0.268\n",
      "Training Accuracy: 0.29312244898\n",
      "Validation Accuracy: 0.307\n",
      "Training Accuracy: 0.369326530612\n",
      "Validation Accuracy: 0.373\n",
      "Training Accuracy: 0.322367346939\n",
      "Validation Accuracy: 0.351\n",
      "Training Accuracy: 0.100265306122\n",
      "Validation Accuracy: 0.087\n",
      "Training Accuracy: 0.100265306122\n",
      "Validation Accuracy: 0.087\n",
      "Training Accuracy: 0.240408163265\n",
      "Validation Accuracy: 0.255\n",
      "Training Accuracy: 0.304142857143\n",
      "Validation Accuracy: 0.326\n",
      "Training Accuracy: 0.370755102041\n",
      "Validation Accuracy: 0.381\n",
      "lr 1.000000e-07 reg 1.000000e+04 train accuracy: 0.355020 val accuracy: 0.355000\n",
      "lr 1.000000e-07 reg 5.000000e+04 train accuracy: 0.329449 val accuracy: 0.351000\n",
      "lr 1.000000e-07 reg 1.000000e+05 train accuracy: 0.303429 val accuracy: 0.321000\n",
      "lr 1.000000e-07 reg 1.000000e+06 train accuracy: 0.253959 val accuracy: 0.267000\n",
      "lr 1.000000e-07 reg 1.000000e+07 train accuracy: 0.190673 val accuracy: 0.203000\n",
      "lr 1.000000e-07 reg 1.000000e+08 train accuracy: 0.100265 val accuracy: 0.087000\n",
      "lr 2.000000e-07 reg 1.000000e+04 train accuracy: 0.374612 val accuracy: 0.385000\n",
      "lr 2.000000e-07 reg 5.000000e+04 train accuracy: 0.324429 val accuracy: 0.344000\n",
      "lr 2.000000e-07 reg 1.000000e+05 train accuracy: 0.295245 val accuracy: 0.318000\n",
      "lr 2.000000e-07 reg 1.000000e+06 train accuracy: 0.278265 val accuracy: 0.276000\n",
      "lr 2.000000e-07 reg 1.000000e+07 train accuracy: 0.100265 val accuracy: 0.087000\n",
      "lr 2.000000e-07 reg 1.000000e+08 train accuracy: 0.100265 val accuracy: 0.087000\n",
      "lr 3.000000e-07 reg 1.000000e+04 train accuracy: 0.371531 val accuracy: 0.388000\n",
      "lr 3.000000e-07 reg 5.000000e+04 train accuracy: 0.319020 val accuracy: 0.341000\n",
      "lr 3.000000e-07 reg 1.000000e+05 train accuracy: 0.312939 val accuracy: 0.322000\n",
      "lr 3.000000e-07 reg 1.000000e+06 train accuracy: 0.232265 val accuracy: 0.249000\n",
      "lr 3.000000e-07 reg 1.000000e+07 train accuracy: 0.100265 val accuracy: 0.087000\n",
      "lr 3.000000e-07 reg 1.000000e+08 train accuracy: 0.100265 val accuracy: 0.087000\n",
      "lr 4.000000e-07 reg 1.000000e+04 train accuracy: 0.375776 val accuracy: 0.399000\n",
      "lr 4.000000e-07 reg 5.000000e+04 train accuracy: 0.331633 val accuracy: 0.359000\n",
      "lr 4.000000e-07 reg 1.000000e+05 train accuracy: 0.309714 val accuracy: 0.315000\n",
      "lr 4.000000e-07 reg 1.000000e+06 train accuracy: 0.246429 val accuracy: 0.260000\n",
      "lr 4.000000e-07 reg 1.000000e+07 train accuracy: 0.100265 val accuracy: 0.087000\n",
      "lr 4.000000e-07 reg 1.000000e+08 train accuracy: 0.100265 val accuracy: 0.087000\n",
      "lr 5.000000e-07 reg 1.000000e+04 train accuracy: 0.370755 val accuracy: 0.381000\n",
      "lr 5.000000e-07 reg 5.000000e+04 train accuracy: 0.322367 val accuracy: 0.351000\n",
      "lr 5.000000e-07 reg 1.000000e+05 train accuracy: 0.304143 val accuracy: 0.326000\n",
      "lr 5.000000e-07 reg 1.000000e+06 train accuracy: 0.240408 val accuracy: 0.255000\n",
      "lr 5.000000e-07 reg 1.000000e+07 train accuracy: 0.100265 val accuracy: 0.087000\n",
      "lr 5.000000e-07 reg 1.000000e+08 train accuracy: 0.100265 val accuracy: 0.087000\n",
      "lr 6.000000e-07 reg 1.000000e+04 train accuracy: 0.369327 val accuracy: 0.373000\n",
      "lr 6.000000e-07 reg 5.000000e+04 train accuracy: 0.319041 val accuracy: 0.337000\n",
      "lr 6.000000e-07 reg 1.000000e+05 train accuracy: 0.293122 val accuracy: 0.307000\n",
      "lr 6.000000e-07 reg 1.000000e+06 train accuracy: 0.257714 val accuracy: 0.268000\n",
      "lr 6.000000e-07 reg 1.000000e+07 train accuracy: 0.100265 val accuracy: 0.087000\n",
      "lr 6.000000e-07 reg 1.000000e+08 train accuracy: 0.100265 val accuracy: 0.087000\n",
      "best validation accuracy achieved during cross-validation: 0.399000\n"
     ]
    }
   ],
   "source": [
    "# Use the validation set to tune hyperparameters (regularization strength and\n",
    "# learning rate). You should experiment with different ranges for the learning\n",
    "# rates and regularization strengths; if you are careful you should be able to\n",
    "# get a classification accuracy of over 0.35 on the validation set.\n",
    "from cs231n.classifiers import Softmax\n",
    "results = {}\n",
    "best_val = -1\n",
    "best_softmax = None\n",
    "learning_rates = [1e-7, 2e-7, 3e-7, 4e-7, 5e-7, 6e-7, 5e-7]\n",
    "regularization_strengths = [5e4, 1e8, 1e7, 1e6, 1e5, 1e4]\n",
    "\n",
    "################################################################################\n",
    "# TODO:                                                                        #\n",
    "# Use the validation set to set the learning rate and regularization strength. #\n",
    "# This should be identical to the validation that you did for the SVM; save    #\n",
    "# the best trained softmax classifer in best_softmax.                          #\n",
    "################################################################################\n",
    "for i in learning_rates:\n",
    "    for j in regularization_strengths:\n",
    "        model = Softmax()\n",
    "        model.train(X_train, y_train, learning_rate=i, reg=j, num_iters=2000)\n",
    "        y_train_pred = model.predict(X_train)\n",
    "        train_accuracy = np.mean(y_train == y_train_pred)\n",
    "        print 'Training Accuracy:', train_accuracy\n",
    "        y_val_pred = model.predict(X_val)\n",
    "        val_accuracy = np.mean(y_val == y_val_pred)\n",
    "        print 'Validation Accuracy:', val_accuracy\n",
    "        if val_accuracy > best_val:\n",
    "            best_val = val_accuracy\n",
    "            best_softmax = model\n",
    "        results[(i,j)] = (train_accuracy, val_accuracy)\n",
    "################################################################################\n",
    "#                              END OF YOUR CODE                                #\n",
    "################################################################################\n",
    "    \n",
    "# Print out results.\n",
    "for lr, reg in sorted(results):\n",
    "    train_accuracy, val_accuracy = results[(lr, reg)]\n",
    "    print 'lr %e reg %e train accuracy: %f val accuracy: %f' % (\n",
    "                lr, reg, train_accuracy, val_accuracy)\n",
    "    \n",
    "print 'best validation accuracy achieved during cross-validation: %f' % best_val"
   ]
  },
  {
   "cell_type": "code",
   "execution_count": 14,
   "metadata": {
    "collapsed": false
   },
   "outputs": [
    {
     "name": "stdout",
     "output_type": "stream",
     "text": [
      "softmax on raw pixels final test set accuracy: 0.372000\n"
     ]
    }
   ],
   "source": [
    "# evaluate on test set\n",
    "# Evaluate the best softmax on test set\n",
    "y_test_pred = best_softmax.predict(X_test)\n",
    "test_accuracy = np.mean(y_test == y_test_pred)\n",
    "print 'softmax on raw pixels final test set accuracy: %f' % (test_accuracy, )"
   ]
  },
  {
   "cell_type": "code",
   "execution_count": 15,
   "metadata": {
    "collapsed": false
   },
   "outputs": [
    {
     "data": {
      "image/png": "[encoded data removed]",
      "text/plain": [
       "<matplotlib.figure.Figure at 0x90d8ac8>"
      ]
     },
     "metadata": {},
     "output_type": "display_data"
    }
   ],
   "source": [
    "# Visualize the learned weights for each class\n",
    "w = best_softmax.W[:-1,:] # strip out the bias\n",
    "w = w.reshape(32, 32, 3, 10)\n",
    "\n",
    "w_min, w_max = np.min(w), np.max(w)\n",
    "\n",
    "classes = ['plane', 'car', 'bird', 'cat', 'deer', 'dog', 'frog', 'horse', 'ship', 'truck']\n",
    "for i in xrange(10):\n",
    "  plt.subplot(2, 5, i + 1)\n",
    "  \n",
    "  # Rescale the weights to be between 0 and 255\n",
    "  wimg = 255.0 * (w[:, :, :, i].squeeze() - w_min) / (w_max - w_min)\n",
    "  plt.imshow(wimg.astype('uint8'))\n",
    "  plt.axis('off')\n",
    "  plt.title(classes[i])"
   ]
  },
  {
   "cell_type": "code",
   "execution_count": null,
   "metadata": {
    "collapsed": true
   },
   "outputs": [],
   "source": []
  }
 ],
 "metadata": {
  "kernelspec": {
   "display_name": "Python 2",
   "language": "python",
   "name": "python2"
  },
  "language_info": {
   "codemirror_mode": {
    "name": "ipython",
    "version": 2
   },
   "file_extension": ".py",
   "mimetype": "text/x-python",
   "name": "python",
   "nbconvert_exporter": "python",
   "pygments_lexer": "ipython2",
   "version": "2.7.13"
  }
 },
 "nbformat": 4,
 "nbformat_minor": 0
}
